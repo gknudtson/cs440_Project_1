{
 "cells": [
  {
   "cell_type": "code",
   "execution_count": 1,
   "id": "initial_id",
   "metadata": {},
   "outputs": [
    {
     "name": "stdout",
     "output_type": "stream",
     "text": [
      "Starting on 9-16 at 14:54:11\n",
      "\n",
      "Question q1\n",
      "===========\n",
      "*** PASS: test_cases\\q1\\graph_backtrack.test\n",
      "*** \tsolution:\t\t['1:A->C', '0:C->G']\n",
      "*** \texpanded_states:\t['A', 'D', 'C']\n",
      "*** PASS: test_cases\\q1\\graph_bfs_vs_dfs.test\n",
      "*** \tsolution:\t\t['2:A->D', '0:D->G']\n",
      "*** \texpanded_states:\t['A', 'D']\n",
      "*** PASS: test_cases\\q1\\graph_infinite.test\n",
      "*** \tsolution:\t\t['0:A->B', '1:B->C', '1:C->G']\n",
      "*** \texpanded_states:\t['A', 'B', 'C']\n",
      "*** PASS: test_cases\\q1\\graph_manypaths.test\n",
      "*** \tsolution:\t\t['2:A->B2', '0:B2->C', '0:C->D', '2:D->E2', '0:E2->F', '0:F->G']\n",
      "*** \texpanded_states:\t['A', 'B2', 'C', 'D', 'E2', 'F']\n",
      "*** PASS: test_cases\\q1\\pacman_1.test\n",
      "*** \tpacman layout:\t\tmediumMaze\n",
      "*** \tsolution length: 130\n",
      "*** \tnodes expanded:\t\t146\n",
      "\n",
      "### Question q1: 3/3 ###\n",
      "\n",
      "\n",
      "Finished at 14:54:11\n",
      "\n",
      "Provisional grades\n",
      "==================\n",
      "Question q1: 3/3\n",
      "------------------\n",
      "Total: 3/3\n",
      "\n",
      "Your grades are NOT yet registered.  To register your grades, make sure\n",
      "to follow your instructor's guidelines to receive credit on your project.\n",
      "\n",
      "\n"
     ]
    }
   ],
   "source": [
    "import subprocess\n",
    "\n",
    "command = ['python', 'autograder.py', '-q', 'q1']\n",
    "\n",
    "result = subprocess.run(command, capture_output=True, text=True)\n",
    "\n",
    "print(result.stdout)"
   ]
  },
  {
   "cell_type": "code",
   "execution_count": 2,
   "id": "c24efa52c84c8bd7",
   "metadata": {
    "collapsed": false,
    "jupyter": {
     "outputs_hidden": false
    }
   },
   "outputs": [
    {
     "name": "stdout",
     "output_type": "stream",
     "text": [
      "Starting on 9-16 at 14:54:11\n",
      "\n",
      "Question q2\n",
      "===========\n",
      "*** Method not implemented: breadthFirstSearch at line 115 of C:\\Users\\gabek\\Downloads\\search\\search.py\n",
      "*** FAIL: Terminated with a string exception.\n",
      "\n",
      "### Question q2: 0/3 ###\n",
      "\n",
      "\n",
      "Finished at 14:54:11\n",
      "\n",
      "Provisional grades\n",
      "==================\n",
      "Question q2: 0/3\n",
      "------------------\n",
      "Total: 0/3\n",
      "\n",
      "Your grades are NOT yet registered.  To register your grades, make sure\n",
      "to follow your instructor's guidelines to receive credit on your project.\n",
      "\n",
      "\n"
     ]
    }
   ],
   "source": [
    "command = ['python', 'autograder.py', '-q', 'q2']\n",
    "\n",
    "result = subprocess.run(command, capture_output=True, text=True)\n",
    "\n",
    "print(result.stdout)"
   ]
  },
  {
   "cell_type": "code",
   "execution_count": 3,
   "id": "243a32bf590f04a7",
   "metadata": {
    "collapsed": false,
    "jupyter": {
     "outputs_hidden": false
    }
   },
   "outputs": [
    {
     "name": "stdout",
     "output_type": "stream",
     "text": [
      "Starting on 9-16 at 14:54:11\n",
      "\n",
      "Question q4\n",
      "===========\n",
      "*** PASS: test_cases\\q4\\astar_0.test\n",
      "*** \tsolution:\t\t['Right', 'Down', 'Down']\n",
      "*** \texpanded_states:\t['A', 'B', 'D', 'C', 'G']\n",
      "*** PASS: test_cases\\q4\\astar_1_graph_heuristic.test\n",
      "*** \tsolution:\t\t['0', '0', '2']\n",
      "*** \texpanded_states:\t['S', 'A', 'D', 'C']\n",
      "*** PASS: test_cases\\q4\\astar_2_manhattan.test\n",
      "*** \tpacman layout:\t\tmediumMaze\n",
      "*** \tsolution length: 68\n",
      "*** \tnodes expanded:\t\t221\n",
      "*** PASS: test_cases\\q4\\astar_3_goalAtDequeue.test\n",
      "*** \tsolution:\t\t['1:A->B', '0:B->C', '0:C->G']\n",
      "*** \texpanded_states:\t['A', 'B', 'C']\n",
      "*** PASS: test_cases\\q4\\astar_expand_1.test\n",
      "*** \tsolution:\t\t['0', '0', '0']\n",
      "*** \texpanded_states:\t['Q', 'B', 'A', 'B']\n",
      "*** PASS: test_cases\\q4\\astar_expand_2.test\n",
      "*** \tsolution:\t\t['0:A->B', '0:B->C', '0:C->D', '0:D->E', '0:E->F', '0:F->G']\n",
      "*** \texpanded_states:\t['A', 'C', 'D', 'F', 'E', 'F', 'B', 'C', 'D', 'E', 'F']\n",
      "*** PASS: test_cases\\q4\\graph_backtrack.test\n",
      "*** \tsolution:\t\t['1:A->C', '0:C->G']\n",
      "*** \texpanded_states:\t['A', 'B', 'C', 'D']\n",
      "*** PASS: test_cases\\q4\\graph_manypaths.test\n",
      "*** \tsolution:\t\t['1:A->C', '0:C->D', '1:D->F', '0:F->G']\n",
      "*** \texpanded_states:\t['A', 'B1', 'C', 'B2', 'D', 'E1', 'F', 'E2']\n",
      "\n",
      "### Question q4: 3/3 ###\n",
      "\n",
      "\n",
      "Finished at 14:54:11\n",
      "\n",
      "Provisional grades\n",
      "==================\n",
      "Question q4: 3/3\n",
      "------------------\n",
      "Total: 3/3\n",
      "\n",
      "Your grades are NOT yet registered.  To register your grades, make sure\n",
      "to follow your instructor's guidelines to receive credit on your project.\n",
      "\n",
      "\n"
     ]
    }
   ],
   "source": [
    "command = ['python', 'autograder.py', '-q', 'q4']\n",
    "\n",
    "result = subprocess.run(command, capture_output=True, text=True)\n",
    "\n",
    "print(result.stdout)"
   ]
  },
  {
   "cell_type": "code",
   "execution_count": 4,
   "id": "4fcccd11d5f084a",
   "metadata": {
    "collapsed": false,
    "jupyter": {
     "outputs_hidden": false
    }
   },
   "outputs": [
    {
     "name": "stdout",
     "output_type": "stream",
     "text": [
      "Starting on 9-16 at 14:54:12\n",
      "\n",
      "Question q8\n",
      "===========\n",
      "[SearchAgent] using function depthFirstSearch\n",
      "[SearchAgent] using problem type PositionSearchProblem\n",
      "*** Method not implemented: findPathToClosestDot at line 488 of C:\\Users\\gabek\\Downloads\\search\\searchAgents.py\n",
      "*** FAIL: Terminated with a string exception.\n",
      "\n",
      "### Question q8: 0/3 ###\n",
      "\n",
      "\n",
      "Finished at 14:54:12\n",
      "\n",
      "Provisional grades\n",
      "==================\n",
      "Question q8: 0/3\n",
      "------------------\n",
      "Total: 0/3\n",
      "\n",
      "Your grades are NOT yet registered.  To register your grades, make sure\n",
      "to follow your instructor's guidelines to receive credit on your project.\n",
      "\n",
      "\n"
     ]
    }
   ],
   "source": [
    "command = ['python', 'autograder.py', '-q', 'q8']\n",
    "\n",
    "result = subprocess.run(command, capture_output=True, text=True)\n",
    "\n",
    "print(result.stdout)"
   ]
  },
  {
   "cell_type": "code",
   "execution_count": null,
   "id": "7ad3e7db-d883-492f-883e-8c7ca87e8888",
   "metadata": {},
   "outputs": [],
   "source": []
  }
 ],
 "metadata": {
  "kernelspec": {
   "display_name": "Python 3 (ipykernel)",
   "language": "python",
   "name": "python3"
  },
  "language_info": {
   "codemirror_mode": {
    "name": "ipython",
    "version": 3
   },
   "file_extension": ".py",
   "mimetype": "text/x-python",
   "name": "python",
   "nbconvert_exporter": "python",
   "pygments_lexer": "ipython3",
   "version": "3.11.5"
  }
 },
 "nbformat": 4,
 "nbformat_minor": 5
}
